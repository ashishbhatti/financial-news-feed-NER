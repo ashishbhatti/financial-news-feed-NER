{
  "nbformat": 4,
  "nbformat_minor": 0,
  "metadata": {
    "colab": {
      "provenance": []
    },
    "kernelspec": {
      "name": "python3",
      "display_name": "Python 3"
    },
    "language_info": {
      "name": "python"
    }
  },
  "cells": [
    {
      "cell_type": "markdown",
      "source": [
        "# Introduction\n",
        "\n",
        "*This file is to play around with the data and to get familiar with the spacy library (NLP library). The code for the final app is in the app.py file.*\n",
        "\n",
        "What is information retrieval?\n",
        "Getting insights from raw and unstructured data, and text is a very desirable task. Uploading a document and getting important bits of information from it is called information retrival. It has been a major challenge in NLP.\n",
        "\n",
        "We can use NER (Named Entity Recognition) (or NEL, Named Entity Linking) in several domains like finance, drug research, e-commerce, and more for information retrieval purposes. In this tutorial, we use NEL to develop a stock marke news feed that lists down the buzzing stocks on the internet.\n",
        "\n",
        "**Basic Tasks Related to NLP**\n",
        "- Tokenization\n",
        "- POS tagging\n",
        "- Dependency parsing\n",
        "\n",
        "How to do the task?\n",
        "Learn how to apply Named Entity Recognition to extract important entitites (here publicly traded companies) and then link each entity with some information using a knowledge base (Nifty500 companies list here).\n",
        "\n",
        "The textual data to perform NER on will be taken from the RSS feeds. From these the Named Entities (the company names) will be extracted, which will be linked to the knowledge base and then their stock informations will be collected using these names from Yahoo Finance Library.\n",
        "\n",
        "**NER has many applications in industry.**\n",
        "\n",
        "\n",
        "\n",
        "\n"
      ],
      "metadata": {
        "id": "REeStfDdZI92"
      }
    },
    {
      "cell_type": "markdown",
      "source": [
        "# News Feed Buzzing Stocks!\n",
        "\n",
        "Major Steps:\n",
        "1. Import the required libraries\n",
        "  - spacy\n",
        "  - pandas: to reach csv files\n",
        "  - requests: to send get requests to get some data\n",
        "  - BeautifulSoup: to parse through my xml data, because I will play with some rss feeds\n",
        "  - streamlit: We will use streamlit in out vscode so will import there.\n",
        "  - yfinance: Yahoo Finance is a library which provides stock data in real time.\n",
        "\n",
        "2. Extract the data from the RSS feed links.\n",
        "3. NER _(Named Entity Recognition)_ - spaCy NLP pipeline to process our extracted textual data.\n",
        "4. NEL _(Named Entity Linkage)_ - Whatever entities extracted in step 3 will be linked to external dataset (Nifty 500 company list). Basically building a financial newsfeed.\n",
        "5. Extract the data of these entities (publicly traded companies) using yahoofinance library."
      ],
      "metadata": {
        "id": "-_PSwnPePEd3"
      }
    },
    {
      "cell_type": "markdown",
      "source": [
        "### Step 1: Importing Required Libraries"
      ],
      "metadata": {
        "id": "pjykhq1KPhW_"
      }
    },
    {
      "cell_type": "code",
      "execution_count": 1,
      "metadata": {
        "id": "VuPc19ROY_xt"
      },
      "outputs": [],
      "source": [
        "import spacy\n",
        "import pandas as pd\n",
        "import requests\n",
        "from bs4 import BeautifulSoup"
      ]
    },
    {
      "cell_type": "markdown",
      "source": [
        "### Step 2: How to extract trending stocks news data\n",
        "We can use two sources:\n",
        "\n",
        "\n",
        "1.   Economic Times, Markets RSS feed\n",
        "2.   Money Control RSS Feed\n",
        "\n",
        "What is RSS feed?[2] \\\n",
        "An RSS (Really Simple Syndication) feed is an online file that contains details about every piece of content a site has published. Each time a site publishes a new piece of content, details about that content—including the full-text of the content or a summary, publication date, author, link, etc.—are automatically generated in the file and displayed in reverse chronological order.\n",
        "\n",
        "We will get textual headlines from RSS feed and then we'll use SpaCy to extract the main entities from the headlines. The headlines are present in the \\<title\\> tags of the XML here.\n",
        "\n",
        "The requests package sends GET requests to the provided link, and it returns the response. We use it to capture the entire XML doc from the provided link.\n",
        "\n",
        "Print the response to see if it was successful. HTTP code 200 means successful response."
      ],
      "metadata": {
        "id": "Lyov4I5yP_j1"
      }
    },
    {
      "cell_type": "code",
      "source": [
        "# To get the rss feed xml into a response object\n",
        "resp = requests.get(\"https://economictimes.indiatimes.com/markets/rssfeeds/1977021501.cms\")\n",
        "resp"
      ],
      "metadata": {
        "colab": {
          "base_uri": "https://localhost:8080/"
        },
        "id": "lD4_-W1kblhA",
        "outputId": "96de7eb0-526a-4f70-f7f0-180277b5e9e8"
      },
      "execution_count": 2,
      "outputs": [
        {
          "output_type": "execute_result",
          "data": {
            "text/plain": [
              "<Response [200]>"
            ]
          },
          "metadata": {},
          "execution_count": 2
        }
      ]
    },
    {
      "cell_type": "code",
      "source": [
        "# resp.text\n",
        "# resp.content"
      ],
      "metadata": {
        "id": "JRZr-JRczu-e"
      },
      "execution_count": 3,
      "outputs": []
    },
    {
      "cell_type": "markdown",
      "source": [
        "Now this complete XML content needs to be parsed to extract the headlines, which are inside \\<title\\> tags. BeautifulSoup class is used to parse the XML document."
      ],
      "metadata": {
        "id": "6lNYum5gTq2G"
      }
    },
    {
      "cell_type": "code",
      "source": [
        "soup = BeautifulSoup(resp.content, features='xml')\n",
        "headlines = soup.findAll('title')"
      ],
      "metadata": {
        "id": "eM-i3lwXzh6K"
      },
      "execution_count": 4,
      "outputs": []
    },
    {
      "cell_type": "code",
      "source": [
        "#headlines   # list of all title tags"
      ],
      "metadata": {
        "id": "5eUZUqpKz_li"
      },
      "execution_count": 5,
      "outputs": []
    },
    {
      "cell_type": "markdown",
      "source": [
        "### Step 3: How to extract entities from the headlines?\n",
        "\n",
        "Ofcourse we have to use NLP, but how?\n",
        "We will use spaCy libray.\n",
        "- It is an open source NLP library.\n",
        "- Super-fast in processing textual data. Leader in NLP reseach, also used in industry.\n",
        "- Supports many languages.\n",
        "- Works well with tensorflow and pytorch\n",
        "\n",
        "We will use pre-trained core language model from spaCy to extract the entities.\n",
        "It has 2 major classes of pre-trained language models. \\\n",
        "1. Core Models: for general-purpose basic NLP tasks\n",
        "2. Starter Models: for niche applications that require transfer learning."
      ],
      "metadata": {
        "id": "k-MoM5BAUgxz"
      }
    },
    {
      "cell_type": "code",
      "source": [
        "# Colab has en_core_web_sm downloaded for us, so only loading\n",
        "# in other machines download first\n",
        "nlp = spacy.load(\"en_core_web_sm\")"
      ],
      "metadata": {
        "id": "kNPFy3K52R4_"
      },
      "execution_count": 6,
      "outputs": []
    },
    {
      "cell_type": "markdown",
      "source": [
        "`en_core_web_sm` is an English pipeline optimized for CPU and has following components:\n",
        "- tok2vec - token to vectors (performs tokenization on textual data)\n",
        "- tagger - adds relevant metadata to each token. spaCy makes use of statistical models to predict POS (part of speech) of each token.\n",
        "- parser - dependency parser establishes relationships among the tokens\n",
        "- senter, ner, attribute_ruler, and lemmatizer."
      ],
      "metadata": {
        "id": "fEEQgr-8Xepg"
      }
    },
    {
      "cell_type": "code",
      "source": [
        "# Testing for a single headline\n",
        "print(headlines[10])\n",
        "processed_hline = nlp(headlines[10].text)  # extract text from <title> tags\n",
        "# processed_hline\n",
        "\n",
        "# To check the tokens\n",
        "for token in processed_hline:\n",
        "    print(token.text)"
      ],
      "metadata": {
        "colab": {
          "base_uri": "https://localhost:8080/"
        },
        "id": "zZeANwKu4AkG",
        "outputId": "28770fa2-9692-4a07-eaf6-5efa053526e6"
      },
      "execution_count": 10,
      "outputs": [
        {
          "output_type": "stream",
          "name": "stdout",
          "text": [
            "<title>Sovereign Gold Bond Scheme: Issue price fixed at Rs 5,926/gm; subscription opens on Monday</title>\n",
            "Sovereign\n",
            "Gold\n",
            "Bond\n",
            "Scheme\n",
            ":\n",
            "Issue\n",
            "price\n",
            "fixed\n",
            "at\n",
            "Rs\n",
            "5,926\n",
            "/\n",
            "gm\n",
            ";\n",
            "subscription\n",
            "opens\n",
            "on\n",
            "Monday\n"
          ]
        }
      ]
    },
    {
      "cell_type": "code",
      "source": [
        "# Each token has a tagged pos_ attribute\n",
        "print(headlines[10])\n",
        "processed_hline = nlp(headlines[10].text)\n",
        "for token in processed_hline:\n",
        "    print(token.text, \"---\", token.pos_)"
      ],
      "metadata": {
        "colab": {
          "base_uri": "https://localhost:8080/"
        },
        "id": "lF4cMzvN4if6",
        "outputId": "8cf29246-f586-406f-9c79-96dbe491bb9c"
      },
      "execution_count": 11,
      "outputs": [
        {
          "output_type": "stream",
          "name": "stdout",
          "text": [
            "<title>Sovereign Gold Bond Scheme: Issue price fixed at Rs 5,926/gm; subscription opens on Monday</title>\n",
            "Sovereign --- PROPN\n",
            "Gold --- PROPN\n",
            "Bond --- PROPN\n",
            "Scheme --- PROPN\n",
            ": --- PUNCT\n",
            "Issue --- NOUN\n",
            "price --- NOUN\n",
            "fixed --- VERB\n",
            "at --- ADP\n",
            "Rs --- NOUN\n",
            "5,926 --- NUM\n",
            "/ --- SYM\n",
            "gm --- PROPN\n",
            "; --- PUNCT\n",
            "subscription --- NOUN\n",
            "opens --- VERB\n",
            "on --- ADP\n",
            "Monday --- PROPN\n"
          ]
        }
      ]
    },
    {
      "cell_type": "code",
      "source": [
        "# Each token also has a dep_ attribute which tells how that token is related to others\n",
        "print(headlines[10])\n",
        "processed_hline = nlp(headlines[10].text)\n",
        "for token in processed_hline:\n",
        "    print(token.text, \"---\", token.pos_, \"---\",token.dep_)"
      ],
      "metadata": {
        "colab": {
          "base_uri": "https://localhost:8080/"
        },
        "id": "ZB1WdxmR6pDE",
        "outputId": "e12611fd-d07d-4264-d6ec-50bbe57abf0c"
      },
      "execution_count": 12,
      "outputs": [
        {
          "output_type": "stream",
          "name": "stdout",
          "text": [
            "<title>Sovereign Gold Bond Scheme: Issue price fixed at Rs 5,926/gm; subscription opens on Monday</title>\n",
            "Sovereign --- PROPN --- compound\n",
            "Gold --- PROPN --- compound\n",
            "Bond --- PROPN --- compound\n",
            "Scheme --- PROPN --- dep\n",
            ": --- PUNCT --- punct\n",
            "Issue --- NOUN --- compound\n",
            "price --- NOUN --- appos\n",
            "fixed --- VERB --- acl\n",
            "at --- ADP --- prep\n",
            "Rs --- NOUN --- nmod\n",
            "5,926 --- NUM --- pobj\n",
            "/ --- SYM --- punct\n",
            "gm --- PROPN --- appos\n",
            "; --- PUNCT --- punct\n",
            "subscription --- NOUN --- nsubj\n",
            "opens --- VERB --- ROOT\n",
            "on --- ADP --- prep\n",
            "Monday --- PROPN --- pobj\n"
          ]
        }
      ]
    },
    {
      "cell_type": "code",
      "source": [
        "print(headlines[10])\n",
        "processed_hline = nlp(headlines[10].text)\n",
        "for token in processed_hline:\n",
        "    print(token.text, \"---\", token.pos_, \"---\",token.dep_, \"---\", spacy.explain(token.dep_))"
      ],
      "metadata": {
        "colab": {
          "base_uri": "https://localhost:8080/"
        },
        "id": "Fsg5ptsd7SgS",
        "outputId": "3fac76e1-89a2-436a-db77-0c937035281d"
      },
      "execution_count": 13,
      "outputs": [
        {
          "output_type": "stream",
          "name": "stdout",
          "text": [
            "<title>Sovereign Gold Bond Scheme: Issue price fixed at Rs 5,926/gm; subscription opens on Monday</title>\n",
            "Sovereign --- PROPN --- compound --- compound\n",
            "Gold --- PROPN --- compound --- compound\n",
            "Bond --- PROPN --- compound --- compound\n",
            "Scheme --- PROPN --- dep --- unclassified dependent\n",
            ": --- PUNCT --- punct --- punctuation\n",
            "Issue --- NOUN --- compound --- compound\n",
            "price --- NOUN --- appos --- appositional modifier\n",
            "fixed --- VERB --- acl --- clausal modifier of noun (adjectival clause)\n",
            "at --- ADP --- prep --- prepositional modifier\n",
            "Rs --- NOUN --- nmod --- modifier of nominal\n",
            "5,926 --- NUM --- pobj --- object of preposition\n",
            "/ --- SYM --- punct --- punctuation\n",
            "gm --- PROPN --- appos --- appositional modifier\n",
            "; --- PUNCT --- punct --- punctuation\n",
            "subscription --- NOUN --- nsubj --- nominal subject\n",
            "opens --- VERB --- ROOT --- root\n",
            "on --- ADP --- prep --- prepositional modifier\n",
            "Monday --- PROPN --- pobj --- object of preposition\n"
          ]
        }
      ]
    },
    {
      "cell_type": "code",
      "source": [
        "# To visualize dependencies among the tokens,\n",
        "# displacy render() method can be used.\n",
        "spacy.displacy.render(processed_hline, style='dep', jupyter=True, options={'distance':120})"
      ],
      "metadata": {
        "colab": {
          "base_uri": "https://localhost:8080/",
          "height": 359
        },
        "id": "kfAr2S_M7h5E",
        "outputId": "f342765f-1a9b-432a-92df-0a6cce96fd59"
      },
      "execution_count": 14,
      "outputs": [
        {
          "output_type": "display_data",
          "data": {
            "text/plain": [
              "<IPython.core.display.HTML object>"
            ],
            "text/html": [
              "<span class=\"tex2jax_ignore\"><svg xmlns=\"http://www.w3.org/2000/svg\" xmlns:xlink=\"http://www.w3.org/1999/xlink\" xml:lang=\"en\" id=\"e9fbfe4dca2a443a9b23775d6142931d-0\" class=\"displacy\" width=\"1850\" height=\"317.0\" direction=\"ltr\" style=\"max-width: none; height: 317.0px; color: #000000; background: #ffffff; font-family: Arial; direction: ltr\">\n",
              "<text class=\"displacy-token\" fill=\"currentColor\" text-anchor=\"middle\" y=\"227.0\">\n",
              "    <tspan class=\"displacy-word\" fill=\"currentColor\" x=\"50\">Sovereign</tspan>\n",
              "    <tspan class=\"displacy-tag\" dy=\"2em\" fill=\"currentColor\" x=\"50\">PROPN</tspan>\n",
              "</text>\n",
              "\n",
              "<text class=\"displacy-token\" fill=\"currentColor\" text-anchor=\"middle\" y=\"227.0\">\n",
              "    <tspan class=\"displacy-word\" fill=\"currentColor\" x=\"170\">Gold</tspan>\n",
              "    <tspan class=\"displacy-tag\" dy=\"2em\" fill=\"currentColor\" x=\"170\">PROPN</tspan>\n",
              "</text>\n",
              "\n",
              "<text class=\"displacy-token\" fill=\"currentColor\" text-anchor=\"middle\" y=\"227.0\">\n",
              "    <tspan class=\"displacy-word\" fill=\"currentColor\" x=\"290\">Bond</tspan>\n",
              "    <tspan class=\"displacy-tag\" dy=\"2em\" fill=\"currentColor\" x=\"290\">PROPN</tspan>\n",
              "</text>\n",
              "\n",
              "<text class=\"displacy-token\" fill=\"currentColor\" text-anchor=\"middle\" y=\"227.0\">\n",
              "    <tspan class=\"displacy-word\" fill=\"currentColor\" x=\"410\">Scheme:</tspan>\n",
              "    <tspan class=\"displacy-tag\" dy=\"2em\" fill=\"currentColor\" x=\"410\">PROPN</tspan>\n",
              "</text>\n",
              "\n",
              "<text class=\"displacy-token\" fill=\"currentColor\" text-anchor=\"middle\" y=\"227.0\">\n",
              "    <tspan class=\"displacy-word\" fill=\"currentColor\" x=\"530\">Issue</tspan>\n",
              "    <tspan class=\"displacy-tag\" dy=\"2em\" fill=\"currentColor\" x=\"530\">NOUN</tspan>\n",
              "</text>\n",
              "\n",
              "<text class=\"displacy-token\" fill=\"currentColor\" text-anchor=\"middle\" y=\"227.0\">\n",
              "    <tspan class=\"displacy-word\" fill=\"currentColor\" x=\"650\">price</tspan>\n",
              "    <tspan class=\"displacy-tag\" dy=\"2em\" fill=\"currentColor\" x=\"650\">NOUN</tspan>\n",
              "</text>\n",
              "\n",
              "<text class=\"displacy-token\" fill=\"currentColor\" text-anchor=\"middle\" y=\"227.0\">\n",
              "    <tspan class=\"displacy-word\" fill=\"currentColor\" x=\"770\">fixed</tspan>\n",
              "    <tspan class=\"displacy-tag\" dy=\"2em\" fill=\"currentColor\" x=\"770\">VERB</tspan>\n",
              "</text>\n",
              "\n",
              "<text class=\"displacy-token\" fill=\"currentColor\" text-anchor=\"middle\" y=\"227.0\">\n",
              "    <tspan class=\"displacy-word\" fill=\"currentColor\" x=\"890\">at</tspan>\n",
              "    <tspan class=\"displacy-tag\" dy=\"2em\" fill=\"currentColor\" x=\"890\">ADP</tspan>\n",
              "</text>\n",
              "\n",
              "<text class=\"displacy-token\" fill=\"currentColor\" text-anchor=\"middle\" y=\"227.0\">\n",
              "    <tspan class=\"displacy-word\" fill=\"currentColor\" x=\"1010\">Rs</tspan>\n",
              "    <tspan class=\"displacy-tag\" dy=\"2em\" fill=\"currentColor\" x=\"1010\">NOUN</tspan>\n",
              "</text>\n",
              "\n",
              "<text class=\"displacy-token\" fill=\"currentColor\" text-anchor=\"middle\" y=\"227.0\">\n",
              "    <tspan class=\"displacy-word\" fill=\"currentColor\" x=\"1130\">5,926/</tspan>\n",
              "    <tspan class=\"displacy-tag\" dy=\"2em\" fill=\"currentColor\" x=\"1130\">NUM</tspan>\n",
              "</text>\n",
              "\n",
              "<text class=\"displacy-token\" fill=\"currentColor\" text-anchor=\"middle\" y=\"227.0\">\n",
              "    <tspan class=\"displacy-word\" fill=\"currentColor\" x=\"1250\">gm;</tspan>\n",
              "    <tspan class=\"displacy-tag\" dy=\"2em\" fill=\"currentColor\" x=\"1250\">PROPN</tspan>\n",
              "</text>\n",
              "\n",
              "<text class=\"displacy-token\" fill=\"currentColor\" text-anchor=\"middle\" y=\"227.0\">\n",
              "    <tspan class=\"displacy-word\" fill=\"currentColor\" x=\"1370\">subscription</tspan>\n",
              "    <tspan class=\"displacy-tag\" dy=\"2em\" fill=\"currentColor\" x=\"1370\">NOUN</tspan>\n",
              "</text>\n",
              "\n",
              "<text class=\"displacy-token\" fill=\"currentColor\" text-anchor=\"middle\" y=\"227.0\">\n",
              "    <tspan class=\"displacy-word\" fill=\"currentColor\" x=\"1490\">opens</tspan>\n",
              "    <tspan class=\"displacy-tag\" dy=\"2em\" fill=\"currentColor\" x=\"1490\">VERB</tspan>\n",
              "</text>\n",
              "\n",
              "<text class=\"displacy-token\" fill=\"currentColor\" text-anchor=\"middle\" y=\"227.0\">\n",
              "    <tspan class=\"displacy-word\" fill=\"currentColor\" x=\"1610\">on</tspan>\n",
              "    <tspan class=\"displacy-tag\" dy=\"2em\" fill=\"currentColor\" x=\"1610\">ADP</tspan>\n",
              "</text>\n",
              "\n",
              "<text class=\"displacy-token\" fill=\"currentColor\" text-anchor=\"middle\" y=\"227.0\">\n",
              "    <tspan class=\"displacy-word\" fill=\"currentColor\" x=\"1730\">Monday</tspan>\n",
              "    <tspan class=\"displacy-tag\" dy=\"2em\" fill=\"currentColor\" x=\"1730\">PROPN</tspan>\n",
              "</text>\n",
              "\n",
              "<g class=\"displacy-arrow\">\n",
              "    <path class=\"displacy-arc\" id=\"arrow-e9fbfe4dca2a443a9b23775d6142931d-0-0\" stroke-width=\"2px\" d=\"M70,182.0 C70,62.0 285.0,62.0 285.0,182.0\" fill=\"none\" stroke=\"currentColor\"/>\n",
              "    <text dy=\"1.25em\" style=\"font-size: 0.8em; letter-spacing: 1px\">\n",
              "        <textPath xlink:href=\"#arrow-e9fbfe4dca2a443a9b23775d6142931d-0-0\" class=\"displacy-label\" startOffset=\"50%\" side=\"left\" fill=\"currentColor\" text-anchor=\"middle\">compound</textPath>\n",
              "    </text>\n",
              "    <path class=\"displacy-arrowhead\" d=\"M70,184.0 L62,172.0 78,172.0\" fill=\"currentColor\"/>\n",
              "</g>\n",
              "\n",
              "<g class=\"displacy-arrow\">\n",
              "    <path class=\"displacy-arc\" id=\"arrow-e9fbfe4dca2a443a9b23775d6142931d-0-1\" stroke-width=\"2px\" d=\"M190,182.0 C190,122.0 280.0,122.0 280.0,182.0\" fill=\"none\" stroke=\"currentColor\"/>\n",
              "    <text dy=\"1.25em\" style=\"font-size: 0.8em; letter-spacing: 1px\">\n",
              "        <textPath xlink:href=\"#arrow-e9fbfe4dca2a443a9b23775d6142931d-0-1\" class=\"displacy-label\" startOffset=\"50%\" side=\"left\" fill=\"currentColor\" text-anchor=\"middle\">compound</textPath>\n",
              "    </text>\n",
              "    <path class=\"displacy-arrowhead\" d=\"M190,184.0 L182,172.0 198,172.0\" fill=\"currentColor\"/>\n",
              "</g>\n",
              "\n",
              "<g class=\"displacy-arrow\">\n",
              "    <path class=\"displacy-arc\" id=\"arrow-e9fbfe4dca2a443a9b23775d6142931d-0-2\" stroke-width=\"2px\" d=\"M310,182.0 C310,122.0 400.0,122.0 400.0,182.0\" fill=\"none\" stroke=\"currentColor\"/>\n",
              "    <text dy=\"1.25em\" style=\"font-size: 0.8em; letter-spacing: 1px\">\n",
              "        <textPath xlink:href=\"#arrow-e9fbfe4dca2a443a9b23775d6142931d-0-2\" class=\"displacy-label\" startOffset=\"50%\" side=\"left\" fill=\"currentColor\" text-anchor=\"middle\">compound</textPath>\n",
              "    </text>\n",
              "    <path class=\"displacy-arrowhead\" d=\"M310,184.0 L302,172.0 318,172.0\" fill=\"currentColor\"/>\n",
              "</g>\n",
              "\n",
              "<g class=\"displacy-arrow\">\n",
              "    <path class=\"displacy-arc\" id=\"arrow-e9fbfe4dca2a443a9b23775d6142931d-0-3\" stroke-width=\"2px\" d=\"M430,182.0 C430,2.0 1490.0,2.0 1490.0,182.0\" fill=\"none\" stroke=\"currentColor\"/>\n",
              "    <text dy=\"1.25em\" style=\"font-size: 0.8em; letter-spacing: 1px\">\n",
              "        <textPath xlink:href=\"#arrow-e9fbfe4dca2a443a9b23775d6142931d-0-3\" class=\"displacy-label\" startOffset=\"50%\" side=\"left\" fill=\"currentColor\" text-anchor=\"middle\">dep</textPath>\n",
              "    </text>\n",
              "    <path class=\"displacy-arrowhead\" d=\"M430,184.0 L422,172.0 438,172.0\" fill=\"currentColor\"/>\n",
              "</g>\n",
              "\n",
              "<g class=\"displacy-arrow\">\n",
              "    <path class=\"displacy-arc\" id=\"arrow-e9fbfe4dca2a443a9b23775d6142931d-0-4\" stroke-width=\"2px\" d=\"M550,182.0 C550,122.0 640.0,122.0 640.0,182.0\" fill=\"none\" stroke=\"currentColor\"/>\n",
              "    <text dy=\"1.25em\" style=\"font-size: 0.8em; letter-spacing: 1px\">\n",
              "        <textPath xlink:href=\"#arrow-e9fbfe4dca2a443a9b23775d6142931d-0-4\" class=\"displacy-label\" startOffset=\"50%\" side=\"left\" fill=\"currentColor\" text-anchor=\"middle\">compound</textPath>\n",
              "    </text>\n",
              "    <path class=\"displacy-arrowhead\" d=\"M550,184.0 L542,172.0 558,172.0\" fill=\"currentColor\"/>\n",
              "</g>\n",
              "\n",
              "<g class=\"displacy-arrow\">\n",
              "    <path class=\"displacy-arc\" id=\"arrow-e9fbfe4dca2a443a9b23775d6142931d-0-5\" stroke-width=\"2px\" d=\"M430,182.0 C430,62.0 645.0,62.0 645.0,182.0\" fill=\"none\" stroke=\"currentColor\"/>\n",
              "    <text dy=\"1.25em\" style=\"font-size: 0.8em; letter-spacing: 1px\">\n",
              "        <textPath xlink:href=\"#arrow-e9fbfe4dca2a443a9b23775d6142931d-0-5\" class=\"displacy-label\" startOffset=\"50%\" side=\"left\" fill=\"currentColor\" text-anchor=\"middle\">appos</textPath>\n",
              "    </text>\n",
              "    <path class=\"displacy-arrowhead\" d=\"M645.0,184.0 L653.0,172.0 637.0,172.0\" fill=\"currentColor\"/>\n",
              "</g>\n",
              "\n",
              "<g class=\"displacy-arrow\">\n",
              "    <path class=\"displacy-arc\" id=\"arrow-e9fbfe4dca2a443a9b23775d6142931d-0-6\" stroke-width=\"2px\" d=\"M670,182.0 C670,122.0 760.0,122.0 760.0,182.0\" fill=\"none\" stroke=\"currentColor\"/>\n",
              "    <text dy=\"1.25em\" style=\"font-size: 0.8em; letter-spacing: 1px\">\n",
              "        <textPath xlink:href=\"#arrow-e9fbfe4dca2a443a9b23775d6142931d-0-6\" class=\"displacy-label\" startOffset=\"50%\" side=\"left\" fill=\"currentColor\" text-anchor=\"middle\">acl</textPath>\n",
              "    </text>\n",
              "    <path class=\"displacy-arrowhead\" d=\"M760.0,184.0 L768.0,172.0 752.0,172.0\" fill=\"currentColor\"/>\n",
              "</g>\n",
              "\n",
              "<g class=\"displacy-arrow\">\n",
              "    <path class=\"displacy-arc\" id=\"arrow-e9fbfe4dca2a443a9b23775d6142931d-0-7\" stroke-width=\"2px\" d=\"M790,182.0 C790,122.0 880.0,122.0 880.0,182.0\" fill=\"none\" stroke=\"currentColor\"/>\n",
              "    <text dy=\"1.25em\" style=\"font-size: 0.8em; letter-spacing: 1px\">\n",
              "        <textPath xlink:href=\"#arrow-e9fbfe4dca2a443a9b23775d6142931d-0-7\" class=\"displacy-label\" startOffset=\"50%\" side=\"left\" fill=\"currentColor\" text-anchor=\"middle\">prep</textPath>\n",
              "    </text>\n",
              "    <path class=\"displacy-arrowhead\" d=\"M880.0,184.0 L888.0,172.0 872.0,172.0\" fill=\"currentColor\"/>\n",
              "</g>\n",
              "\n",
              "<g class=\"displacy-arrow\">\n",
              "    <path class=\"displacy-arc\" id=\"arrow-e9fbfe4dca2a443a9b23775d6142931d-0-8\" stroke-width=\"2px\" d=\"M1030,182.0 C1030,122.0 1120.0,122.0 1120.0,182.0\" fill=\"none\" stroke=\"currentColor\"/>\n",
              "    <text dy=\"1.25em\" style=\"font-size: 0.8em; letter-spacing: 1px\">\n",
              "        <textPath xlink:href=\"#arrow-e9fbfe4dca2a443a9b23775d6142931d-0-8\" class=\"displacy-label\" startOffset=\"50%\" side=\"left\" fill=\"currentColor\" text-anchor=\"middle\">nmod</textPath>\n",
              "    </text>\n",
              "    <path class=\"displacy-arrowhead\" d=\"M1030,184.0 L1022,172.0 1038,172.0\" fill=\"currentColor\"/>\n",
              "</g>\n",
              "\n",
              "<g class=\"displacy-arrow\">\n",
              "    <path class=\"displacy-arc\" id=\"arrow-e9fbfe4dca2a443a9b23775d6142931d-0-9\" stroke-width=\"2px\" d=\"M910,182.0 C910,62.0 1125.0,62.0 1125.0,182.0\" fill=\"none\" stroke=\"currentColor\"/>\n",
              "    <text dy=\"1.25em\" style=\"font-size: 0.8em; letter-spacing: 1px\">\n",
              "        <textPath xlink:href=\"#arrow-e9fbfe4dca2a443a9b23775d6142931d-0-9\" class=\"displacy-label\" startOffset=\"50%\" side=\"left\" fill=\"currentColor\" text-anchor=\"middle\">pobj</textPath>\n",
              "    </text>\n",
              "    <path class=\"displacy-arrowhead\" d=\"M1125.0,184.0 L1133.0,172.0 1117.0,172.0\" fill=\"currentColor\"/>\n",
              "</g>\n",
              "\n",
              "<g class=\"displacy-arrow\">\n",
              "    <path class=\"displacy-arc\" id=\"arrow-e9fbfe4dca2a443a9b23775d6142931d-0-10\" stroke-width=\"2px\" d=\"M1150,182.0 C1150,122.0 1240.0,122.0 1240.0,182.0\" fill=\"none\" stroke=\"currentColor\"/>\n",
              "    <text dy=\"1.25em\" style=\"font-size: 0.8em; letter-spacing: 1px\">\n",
              "        <textPath xlink:href=\"#arrow-e9fbfe4dca2a443a9b23775d6142931d-0-10\" class=\"displacy-label\" startOffset=\"50%\" side=\"left\" fill=\"currentColor\" text-anchor=\"middle\">appos</textPath>\n",
              "    </text>\n",
              "    <path class=\"displacy-arrowhead\" d=\"M1240.0,184.0 L1248.0,172.0 1232.0,172.0\" fill=\"currentColor\"/>\n",
              "</g>\n",
              "\n",
              "<g class=\"displacy-arrow\">\n",
              "    <path class=\"displacy-arc\" id=\"arrow-e9fbfe4dca2a443a9b23775d6142931d-0-11\" stroke-width=\"2px\" d=\"M1390,182.0 C1390,122.0 1480.0,122.0 1480.0,182.0\" fill=\"none\" stroke=\"currentColor\"/>\n",
              "    <text dy=\"1.25em\" style=\"font-size: 0.8em; letter-spacing: 1px\">\n",
              "        <textPath xlink:href=\"#arrow-e9fbfe4dca2a443a9b23775d6142931d-0-11\" class=\"displacy-label\" startOffset=\"50%\" side=\"left\" fill=\"currentColor\" text-anchor=\"middle\">nsubj</textPath>\n",
              "    </text>\n",
              "    <path class=\"displacy-arrowhead\" d=\"M1390,184.0 L1382,172.0 1398,172.0\" fill=\"currentColor\"/>\n",
              "</g>\n",
              "\n",
              "<g class=\"displacy-arrow\">\n",
              "    <path class=\"displacy-arc\" id=\"arrow-e9fbfe4dca2a443a9b23775d6142931d-0-12\" stroke-width=\"2px\" d=\"M1510,182.0 C1510,122.0 1600.0,122.0 1600.0,182.0\" fill=\"none\" stroke=\"currentColor\"/>\n",
              "    <text dy=\"1.25em\" style=\"font-size: 0.8em; letter-spacing: 1px\">\n",
              "        <textPath xlink:href=\"#arrow-e9fbfe4dca2a443a9b23775d6142931d-0-12\" class=\"displacy-label\" startOffset=\"50%\" side=\"left\" fill=\"currentColor\" text-anchor=\"middle\">prep</textPath>\n",
              "    </text>\n",
              "    <path class=\"displacy-arrowhead\" d=\"M1600.0,184.0 L1608.0,172.0 1592.0,172.0\" fill=\"currentColor\"/>\n",
              "</g>\n",
              "\n",
              "<g class=\"displacy-arrow\">\n",
              "    <path class=\"displacy-arc\" id=\"arrow-e9fbfe4dca2a443a9b23775d6142931d-0-13\" stroke-width=\"2px\" d=\"M1630,182.0 C1630,122.0 1720.0,122.0 1720.0,182.0\" fill=\"none\" stroke=\"currentColor\"/>\n",
              "    <text dy=\"1.25em\" style=\"font-size: 0.8em; letter-spacing: 1px\">\n",
              "        <textPath xlink:href=\"#arrow-e9fbfe4dca2a443a9b23775d6142931d-0-13\" class=\"displacy-label\" startOffset=\"50%\" side=\"left\" fill=\"currentColor\" text-anchor=\"middle\">pobj</textPath>\n",
              "    </text>\n",
              "    <path class=\"displacy-arrowhead\" d=\"M1720.0,184.0 L1728.0,172.0 1712.0,172.0\" fill=\"currentColor\"/>\n",
              "</g>\n",
              "</svg></span>"
            ]
          },
          "metadata": {}
        }
      ]
    },
    {
      "cell_type": "markdown",
      "source": [
        "#### Named Entity Recognition"
      ],
      "metadata": {
        "id": "uaDuEphAeFVg"
      }
    },
    {
      "cell_type": "code",
      "source": [
        "# NER by passing 'ent' as style.\n",
        "# This dispays different tags on important entities.\n",
        "spacy.displacy.render(processed_hline, style='ent', \\\n",
        "                      jupyter=True, options={'distance':120})"
      ],
      "metadata": {
        "colab": {
          "base_uri": "https://localhost:8080/",
          "height": 87
        },
        "id": "mMA4bhkxILbw",
        "outputId": "b10972ab-56ef-48a2-cd36-e9c5b83804b6"
      },
      "execution_count": 15,
      "outputs": [
        {
          "output_type": "display_data",
          "data": {
            "text/plain": [
              "<IPython.core.display.HTML object>"
            ],
            "text/html": [
              "<span class=\"tex2jax_ignore\"><div class=\"entities\" style=\"line-height: 2.5; direction: ltr\">Sovereign Gold Bond Scheme: Issue price fixed at Rs 5,926/\n",
              "<mark class=\"entity\" style=\"background: #7aecec; padding: 0.45em 0.6em; margin: 0 0.25em; line-height: 1; border-radius: 0.35em;\">\n",
              "    gm\n",
              "    <span style=\"font-size: 0.8em; font-weight: bold; line-height: 1; border-radius: 0.35em; vertical-align: middle; margin-left: 0.5rem\">ORG</span>\n",
              "</mark>\n",
              "; subscription opens on \n",
              "<mark class=\"entity\" style=\"background: #bfe1d9; padding: 0.45em 0.6em; margin: 0 0.25em; line-height: 1; border-radius: 0.35em;\">\n",
              "    Monday\n",
              "    <span style=\"font-size: 0.8em; font-weight: bold; line-height: 1; border-radius: 0.35em; vertical-align: middle; margin-left: 0.5rem\">DATE</span>\n",
              "</mark>\n",
              "</div></span>"
            ]
          },
          "metadata": {}
        }
      ]
    },
    {
      "cell_type": "markdown",
      "source": [
        "The entity tags are:\n",
        "DATE, PERCENT, GPE (Countries/Cities/States), ORG.\n",
        "\n",
        "We are interested in entities with ORG tag, this will give us companies, agencies, institutes etc. We will extract all these entites.\n"
      ],
      "metadata": {
        "id": "3GwkuyiecXs2"
      }
    },
    {
      "cell_type": "code",
      "source": [
        "companies = []\n",
        "for title in headlines:\n",
        "  doc = nlp(title.text)\n",
        "  for token in doc.ents:\n",
        "    if token.label_ == 'ORG':\n",
        "      companies.append(token.text)\n",
        "    else:\n",
        "      pass\n",
        "companies"
      ],
      "metadata": {
        "colab": {
          "base_uri": "https://localhost:8080/"
        },
        "id": "_3jjjcGFdWfr",
        "outputId": "b9341b30-5574-44b4-d1cb-f6b6f994f29e"
      },
      "execution_count": 17,
      "outputs": [
        {
          "output_type": "execute_result",
          "data": {
            "text/plain": [
              "['Markets-Economic Times',\n",
              " 'Economic Times',\n",
              " 'SEC',\n",
              " 'BOJ',\n",
              " 'RBZ Jewellers',\n",
              " 'IPO',\n",
              " 'gm',\n",
              " 'Warburg Pincus',\n",
              " 'Kalyan Jewellers',\n",
              " 'Nomura',\n",
              " 'AI',\n",
              " 'BOJ',\n",
              " 'Fed',\n",
              " 'BSE',\n",
              " 'Go Fashion',\n",
              " 'ETMarket Watch',\n",
              " 'Canara Bank',\n",
              " 'Union Bank',\n",
              " 'SMA',\n",
              " 'SME',\n",
              " 'Healthcare',\n",
              " 'Nifty Auto',\n",
              " 'Gainers',\n",
              " 'TCS',\n",
              " 'NSE',\n",
              " 'Breaking Records',\n",
              " 'ITC',\n",
              " 'Nifty',\n",
              " 'Nifty Realty',\n",
              " 'NSE',\n",
              " 'Nifty',\n",
              " 'Bharat Phatak',\n",
              " 'RSI']"
            ]
          },
          "metadata": {},
          "execution_count": 17
        }
      ]
    },
    {
      "cell_type": "markdown",
      "source": [
        "### Step 4: Named Entity Linking\n",
        "\n",
        "Now we have the names of companies buzzing in the market. We need to get their stock price information. But company names are not used to recognize a company in stock markets, their trading symbols are used.\n",
        "\n",
        "As we are looking at the indian companies only, I am going to use external database of Nifty 500 companies (CSV file). We will use company name to find out the symbol from this database.\n",
        "\n",
        "Then for this symbol we will capture the stock market statistics using yahoo-finance library."
      ],
      "metadata": {
        "id": "SxAUryjod5bm"
      }
    },
    {
      "cell_type": "code",
      "source": [
        "# From all of these extracted entitites we will extract the org name\n",
        "# Then we will need knowledge base, basically nifty 500 company\n",
        "from google.colab import files\n",
        "files.upload();"
      ],
      "metadata": {
        "colab": {
          "base_uri": "https://localhost:8080/",
          "height": 73
        },
        "id": "7bZ6JaW62tA5",
        "outputId": "73c81071-17aa-4f17-a790-1c013c2d9c08"
      },
      "execution_count": 18,
      "outputs": [
        {
          "output_type": "display_data",
          "data": {
            "text/plain": [
              "<IPython.core.display.HTML object>"
            ],
            "text/html": [
              "\n",
              "     <input type=\"file\" id=\"files-596b7fa0-4d56-43a6-9276-0e8b810a8e3e\" name=\"files[]\" multiple disabled\n",
              "        style=\"border:none\" />\n",
              "     <output id=\"result-596b7fa0-4d56-43a6-9276-0e8b810a8e3e\">\n",
              "      Upload widget is only available when the cell has been executed in the\n",
              "      current browser session. Please rerun this cell to enable.\n",
              "      </output>\n",
              "      <script>// Copyright 2017 Google LLC\n",
              "//\n",
              "// Licensed under the Apache License, Version 2.0 (the \"License\");\n",
              "// you may not use this file except in compliance with the License.\n",
              "// You may obtain a copy of the License at\n",
              "//\n",
              "//      http://www.apache.org/licenses/LICENSE-2.0\n",
              "//\n",
              "// Unless required by applicable law or agreed to in writing, software\n",
              "// distributed under the License is distributed on an \"AS IS\" BASIS,\n",
              "// WITHOUT WARRANTIES OR CONDITIONS OF ANY KIND, either express or implied.\n",
              "// See the License for the specific language governing permissions and\n",
              "// limitations under the License.\n",
              "\n",
              "/**\n",
              " * @fileoverview Helpers for google.colab Python module.\n",
              " */\n",
              "(function(scope) {\n",
              "function span(text, styleAttributes = {}) {\n",
              "  const element = document.createElement('span');\n",
              "  element.textContent = text;\n",
              "  for (const key of Object.keys(styleAttributes)) {\n",
              "    element.style[key] = styleAttributes[key];\n",
              "  }\n",
              "  return element;\n",
              "}\n",
              "\n",
              "// Max number of bytes which will be uploaded at a time.\n",
              "const MAX_PAYLOAD_SIZE = 100 * 1024;\n",
              "\n",
              "function _uploadFiles(inputId, outputId) {\n",
              "  const steps = uploadFilesStep(inputId, outputId);\n",
              "  const outputElement = document.getElementById(outputId);\n",
              "  // Cache steps on the outputElement to make it available for the next call\n",
              "  // to uploadFilesContinue from Python.\n",
              "  outputElement.steps = steps;\n",
              "\n",
              "  return _uploadFilesContinue(outputId);\n",
              "}\n",
              "\n",
              "// This is roughly an async generator (not supported in the browser yet),\n",
              "// where there are multiple asynchronous steps and the Python side is going\n",
              "// to poll for completion of each step.\n",
              "// This uses a Promise to block the python side on completion of each step,\n",
              "// then passes the result of the previous step as the input to the next step.\n",
              "function _uploadFilesContinue(outputId) {\n",
              "  const outputElement = document.getElementById(outputId);\n",
              "  const steps = outputElement.steps;\n",
              "\n",
              "  const next = steps.next(outputElement.lastPromiseValue);\n",
              "  return Promise.resolve(next.value.promise).then((value) => {\n",
              "    // Cache the last promise value to make it available to the next\n",
              "    // step of the generator.\n",
              "    outputElement.lastPromiseValue = value;\n",
              "    return next.value.response;\n",
              "  });\n",
              "}\n",
              "\n",
              "/**\n",
              " * Generator function which is called between each async step of the upload\n",
              " * process.\n",
              " * @param {string} inputId Element ID of the input file picker element.\n",
              " * @param {string} outputId Element ID of the output display.\n",
              " * @return {!Iterable<!Object>} Iterable of next steps.\n",
              " */\n",
              "function* uploadFilesStep(inputId, outputId) {\n",
              "  const inputElement = document.getElementById(inputId);\n",
              "  inputElement.disabled = false;\n",
              "\n",
              "  const outputElement = document.getElementById(outputId);\n",
              "  outputElement.innerHTML = '';\n",
              "\n",
              "  const pickedPromise = new Promise((resolve) => {\n",
              "    inputElement.addEventListener('change', (e) => {\n",
              "      resolve(e.target.files);\n",
              "    });\n",
              "  });\n",
              "\n",
              "  const cancel = document.createElement('button');\n",
              "  inputElement.parentElement.appendChild(cancel);\n",
              "  cancel.textContent = 'Cancel upload';\n",
              "  const cancelPromise = new Promise((resolve) => {\n",
              "    cancel.onclick = () => {\n",
              "      resolve(null);\n",
              "    };\n",
              "  });\n",
              "\n",
              "  // Wait for the user to pick the files.\n",
              "  const files = yield {\n",
              "    promise: Promise.race([pickedPromise, cancelPromise]),\n",
              "    response: {\n",
              "      action: 'starting',\n",
              "    }\n",
              "  };\n",
              "\n",
              "  cancel.remove();\n",
              "\n",
              "  // Disable the input element since further picks are not allowed.\n",
              "  inputElement.disabled = true;\n",
              "\n",
              "  if (!files) {\n",
              "    return {\n",
              "      response: {\n",
              "        action: 'complete',\n",
              "      }\n",
              "    };\n",
              "  }\n",
              "\n",
              "  for (const file of files) {\n",
              "    const li = document.createElement('li');\n",
              "    li.append(span(file.name, {fontWeight: 'bold'}));\n",
              "    li.append(span(\n",
              "        `(${file.type || 'n/a'}) - ${file.size} bytes, ` +\n",
              "        `last modified: ${\n",
              "            file.lastModifiedDate ? file.lastModifiedDate.toLocaleDateString() :\n",
              "                                    'n/a'} - `));\n",
              "    const percent = span('0% done');\n",
              "    li.appendChild(percent);\n",
              "\n",
              "    outputElement.appendChild(li);\n",
              "\n",
              "    const fileDataPromise = new Promise((resolve) => {\n",
              "      const reader = new FileReader();\n",
              "      reader.onload = (e) => {\n",
              "        resolve(e.target.result);\n",
              "      };\n",
              "      reader.readAsArrayBuffer(file);\n",
              "    });\n",
              "    // Wait for the data to be ready.\n",
              "    let fileData = yield {\n",
              "      promise: fileDataPromise,\n",
              "      response: {\n",
              "        action: 'continue',\n",
              "      }\n",
              "    };\n",
              "\n",
              "    // Use a chunked sending to avoid message size limits. See b/62115660.\n",
              "    let position = 0;\n",
              "    do {\n",
              "      const length = Math.min(fileData.byteLength - position, MAX_PAYLOAD_SIZE);\n",
              "      const chunk = new Uint8Array(fileData, position, length);\n",
              "      position += length;\n",
              "\n",
              "      const base64 = btoa(String.fromCharCode.apply(null, chunk));\n",
              "      yield {\n",
              "        response: {\n",
              "          action: 'append',\n",
              "          file: file.name,\n",
              "          data: base64,\n",
              "        },\n",
              "      };\n",
              "\n",
              "      let percentDone = fileData.byteLength === 0 ?\n",
              "          100 :\n",
              "          Math.round((position / fileData.byteLength) * 100);\n",
              "      percent.textContent = `${percentDone}% done`;\n",
              "\n",
              "    } while (position < fileData.byteLength);\n",
              "  }\n",
              "\n",
              "  // All done.\n",
              "  yield {\n",
              "    response: {\n",
              "      action: 'complete',\n",
              "    }\n",
              "  };\n",
              "}\n",
              "\n",
              "scope.google = scope.google || {};\n",
              "scope.google.colab = scope.google.colab || {};\n",
              "scope.google.colab._files = {\n",
              "  _uploadFiles,\n",
              "  _uploadFilesContinue,\n",
              "};\n",
              "})(self);\n",
              "</script> "
            ]
          },
          "metadata": {}
        },
        {
          "output_type": "stream",
          "name": "stdout",
          "text": [
            "Saving ind_nifty500list.csv to ind_nifty500list.csv\n"
          ]
        }
      ]
    },
    {
      "cell_type": "code",
      "source": [
        "import pandas as pd\n",
        "stocks_df = pd.read_csv(\"./ind_nifty500list.csv\")\n",
        "stocks_df.head()"
      ],
      "metadata": {
        "colab": {
          "base_uri": "https://localhost:8080/",
          "height": 206
        },
        "id": "exvF4kwu4zh8",
        "outputId": "4e7ab53d-491d-41ca-9408-adbde49cac7b"
      },
      "execution_count": 19,
      "outputs": [
        {
          "output_type": "execute_result",
          "data": {
            "text/plain": [
              "           Company Name                Industry   Symbol Series     ISIN Code\n",
              "0      360 ONE WAM Ltd.      Financial Services   360ONE     EQ  INE466L01038\n",
              "1         3M India Ltd.             Diversified  3MINDIA     EQ  INE470A01017\n",
              "2        ABB India Ltd.           Capital Goods      ABB     EQ  INE117A01022\n",
              "3              ACC Ltd.  Construction Materials      ACC     EQ  INE012A01025\n",
              "4  AIA Engineering Ltd.           Capital Goods   AIAENG     EQ  INE212H01026"
            ],
            "text/html": [
              "\n",
              "  <div id=\"df-9b30478c-cb2d-40e7-b91c-86d33cbe0f90\">\n",
              "    <div class=\"colab-df-container\">\n",
              "      <div>\n",
              "<style scoped>\n",
              "    .dataframe tbody tr th:only-of-type {\n",
              "        vertical-align: middle;\n",
              "    }\n",
              "\n",
              "    .dataframe tbody tr th {\n",
              "        vertical-align: top;\n",
              "    }\n",
              "\n",
              "    .dataframe thead th {\n",
              "        text-align: right;\n",
              "    }\n",
              "</style>\n",
              "<table border=\"1\" class=\"dataframe\">\n",
              "  <thead>\n",
              "    <tr style=\"text-align: right;\">\n",
              "      <th></th>\n",
              "      <th>Company Name</th>\n",
              "      <th>Industry</th>\n",
              "      <th>Symbol</th>\n",
              "      <th>Series</th>\n",
              "      <th>ISIN Code</th>\n",
              "    </tr>\n",
              "  </thead>\n",
              "  <tbody>\n",
              "    <tr>\n",
              "      <th>0</th>\n",
              "      <td>360 ONE WAM Ltd.</td>\n",
              "      <td>Financial Services</td>\n",
              "      <td>360ONE</td>\n",
              "      <td>EQ</td>\n",
              "      <td>INE466L01038</td>\n",
              "    </tr>\n",
              "    <tr>\n",
              "      <th>1</th>\n",
              "      <td>3M India Ltd.</td>\n",
              "      <td>Diversified</td>\n",
              "      <td>3MINDIA</td>\n",
              "      <td>EQ</td>\n",
              "      <td>INE470A01017</td>\n",
              "    </tr>\n",
              "    <tr>\n",
              "      <th>2</th>\n",
              "      <td>ABB India Ltd.</td>\n",
              "      <td>Capital Goods</td>\n",
              "      <td>ABB</td>\n",
              "      <td>EQ</td>\n",
              "      <td>INE117A01022</td>\n",
              "    </tr>\n",
              "    <tr>\n",
              "      <th>3</th>\n",
              "      <td>ACC Ltd.</td>\n",
              "      <td>Construction Materials</td>\n",
              "      <td>ACC</td>\n",
              "      <td>EQ</td>\n",
              "      <td>INE012A01025</td>\n",
              "    </tr>\n",
              "    <tr>\n",
              "      <th>4</th>\n",
              "      <td>AIA Engineering Ltd.</td>\n",
              "      <td>Capital Goods</td>\n",
              "      <td>AIAENG</td>\n",
              "      <td>EQ</td>\n",
              "      <td>INE212H01026</td>\n",
              "    </tr>\n",
              "  </tbody>\n",
              "</table>\n",
              "</div>\n",
              "      <button class=\"colab-df-convert\" onclick=\"convertToInteractive('df-9b30478c-cb2d-40e7-b91c-86d33cbe0f90')\"\n",
              "              title=\"Convert this dataframe to an interactive table.\"\n",
              "              style=\"display:none;\">\n",
              "        \n",
              "  <svg xmlns=\"http://www.w3.org/2000/svg\" height=\"24px\"viewBox=\"0 0 24 24\"\n",
              "       width=\"24px\">\n",
              "    <path d=\"M0 0h24v24H0V0z\" fill=\"none\"/>\n",
              "    <path d=\"M18.56 5.44l.94 2.06.94-2.06 2.06-.94-2.06-.94-.94-2.06-.94 2.06-2.06.94zm-11 1L8.5 8.5l.94-2.06 2.06-.94-2.06-.94L8.5 2.5l-.94 2.06-2.06.94zm10 10l.94 2.06.94-2.06 2.06-.94-2.06-.94-.94-2.06-.94 2.06-2.06.94z\"/><path d=\"M17.41 7.96l-1.37-1.37c-.4-.4-.92-.59-1.43-.59-.52 0-1.04.2-1.43.59L10.3 9.45l-7.72 7.72c-.78.78-.78 2.05 0 2.83L4 21.41c.39.39.9.59 1.41.59.51 0 1.02-.2 1.41-.59l7.78-7.78 2.81-2.81c.8-.78.8-2.07 0-2.86zM5.41 20L4 18.59l7.72-7.72 1.47 1.35L5.41 20z\"/>\n",
              "  </svg>\n",
              "      </button>\n",
              "      \n",
              "  <style>\n",
              "    .colab-df-container {\n",
              "      display:flex;\n",
              "      flex-wrap:wrap;\n",
              "      gap: 12px;\n",
              "    }\n",
              "\n",
              "    .colab-df-convert {\n",
              "      background-color: #E8F0FE;\n",
              "      border: none;\n",
              "      border-radius: 50%;\n",
              "      cursor: pointer;\n",
              "      display: none;\n",
              "      fill: #1967D2;\n",
              "      height: 32px;\n",
              "      padding: 0 0 0 0;\n",
              "      width: 32px;\n",
              "    }\n",
              "\n",
              "    .colab-df-convert:hover {\n",
              "      background-color: #E2EBFA;\n",
              "      box-shadow: 0px 1px 2px rgba(60, 64, 67, 0.3), 0px 1px 3px 1px rgba(60, 64, 67, 0.15);\n",
              "      fill: #174EA6;\n",
              "    }\n",
              "\n",
              "    [theme=dark] .colab-df-convert {\n",
              "      background-color: #3B4455;\n",
              "      fill: #D2E3FC;\n",
              "    }\n",
              "\n",
              "    [theme=dark] .colab-df-convert:hover {\n",
              "      background-color: #434B5C;\n",
              "      box-shadow: 0px 1px 3px 1px rgba(0, 0, 0, 0.15);\n",
              "      filter: drop-shadow(0px 1px 2px rgba(0, 0, 0, 0.3));\n",
              "      fill: #FFFFFF;\n",
              "    }\n",
              "  </style>\n",
              "\n",
              "      <script>\n",
              "        const buttonEl =\n",
              "          document.querySelector('#df-9b30478c-cb2d-40e7-b91c-86d33cbe0f90 button.colab-df-convert');\n",
              "        buttonEl.style.display =\n",
              "          google.colab.kernel.accessAllowed ? 'block' : 'none';\n",
              "\n",
              "        async function convertToInteractive(key) {\n",
              "          const element = document.querySelector('#df-9b30478c-cb2d-40e7-b91c-86d33cbe0f90');\n",
              "          const dataTable =\n",
              "            await google.colab.kernel.invokeFunction('convertToInteractive',\n",
              "                                                     [key], {});\n",
              "          if (!dataTable) return;\n",
              "\n",
              "          const docLinkHtml = 'Like what you see? Visit the ' +\n",
              "            '<a target=\"_blank\" href=https://colab.research.google.com/notebooks/data_table.ipynb>data table notebook</a>'\n",
              "            + ' to learn more about interactive tables.';\n",
              "          element.innerHTML = '';\n",
              "          dataTable['output_type'] = 'display_data';\n",
              "          await google.colab.output.renderOutput(dataTable, element);\n",
              "          const docLink = document.createElement('div');\n",
              "          docLink.innerHTML = docLinkHtml;\n",
              "          element.appendChild(docLink);\n",
              "        }\n",
              "      </script>\n",
              "    </div>\n",
              "  </div>\n",
              "  "
            ]
          },
          "metadata": {},
          "execution_count": 19
        }
      ]
    },
    {
      "cell_type": "code",
      "source": [
        "# Does not come preinstalled in collab, so have to install it.\n",
        "!pip install yfinance"
      ],
      "metadata": {
        "colab": {
          "base_uri": "https://localhost:8080/"
        },
        "id": "Rs9PbY2Wf5jy",
        "outputId": "28ee7f38-9561-4bfc-e2dd-5dedf73791d3"
      },
      "execution_count": 20,
      "outputs": [
        {
          "output_type": "stream",
          "name": "stdout",
          "text": [
            "Looking in indexes: https://pypi.org/simple, https://us-python.pkg.dev/colab-wheels/public/simple/\n",
            "Requirement already satisfied: yfinance in /usr/local/lib/python3.10/dist-packages (0.2.18)\n",
            "Requirement already satisfied: pandas>=1.3.0 in /usr/local/lib/python3.10/dist-packages (from yfinance) (1.5.3)\n",
            "Requirement already satisfied: numpy>=1.16.5 in /usr/local/lib/python3.10/dist-packages (from yfinance) (1.22.4)\n",
            "Requirement already satisfied: requests>=2.26 in /usr/local/lib/python3.10/dist-packages (from yfinance) (2.27.1)\n",
            "Requirement already satisfied: multitasking>=0.0.7 in /usr/local/lib/python3.10/dist-packages (from yfinance) (0.0.11)\n",
            "Requirement already satisfied: lxml>=4.9.1 in /usr/local/lib/python3.10/dist-packages (from yfinance) (4.9.2)\n",
            "Requirement already satisfied: appdirs>=1.4.4 in /usr/local/lib/python3.10/dist-packages (from yfinance) (1.4.4)\n",
            "Requirement already satisfied: pytz>=2022.5 in /usr/local/lib/python3.10/dist-packages (from yfinance) (2022.7.1)\n",
            "Requirement already satisfied: frozendict>=2.3.4 in /usr/local/lib/python3.10/dist-packages (from yfinance) (2.3.7)\n",
            "Requirement already satisfied: cryptography>=3.3.2 in /usr/local/lib/python3.10/dist-packages (from yfinance) (40.0.2)\n",
            "Requirement already satisfied: beautifulsoup4>=4.11.1 in /usr/local/lib/python3.10/dist-packages (from yfinance) (4.11.2)\n",
            "Requirement already satisfied: html5lib>=1.1 in /usr/local/lib/python3.10/dist-packages (from yfinance) (1.1)\n",
            "Requirement already satisfied: soupsieve>1.2 in /usr/local/lib/python3.10/dist-packages (from beautifulsoup4>=4.11.1->yfinance) (2.4.1)\n",
            "Requirement already satisfied: cffi>=1.12 in /usr/local/lib/python3.10/dist-packages (from cryptography>=3.3.2->yfinance) (1.15.1)\n",
            "Requirement already satisfied: six>=1.9 in /usr/local/lib/python3.10/dist-packages (from html5lib>=1.1->yfinance) (1.16.0)\n",
            "Requirement already satisfied: webencodings in /usr/local/lib/python3.10/dist-packages (from html5lib>=1.1->yfinance) (0.5.1)\n",
            "Requirement already satisfied: python-dateutil>=2.8.1 in /usr/local/lib/python3.10/dist-packages (from pandas>=1.3.0->yfinance) (2.8.2)\n",
            "Requirement already satisfied: urllib3<1.27,>=1.21.1 in /usr/local/lib/python3.10/dist-packages (from requests>=2.26->yfinance) (1.26.15)\n",
            "Requirement already satisfied: certifi>=2017.4.17 in /usr/local/lib/python3.10/dist-packages (from requests>=2.26->yfinance) (2022.12.7)\n",
            "Requirement already satisfied: charset-normalizer~=2.0.0 in /usr/local/lib/python3.10/dist-packages (from requests>=2.26->yfinance) (2.0.12)\n",
            "Requirement already satisfied: idna<4,>=2.5 in /usr/local/lib/python3.10/dist-packages (from requests>=2.26->yfinance) (3.4)\n",
            "Requirement already satisfied: pycparser in /usr/local/lib/python3.10/dist-packages (from cffi>=1.12->cryptography>=3.3.2->yfinance) (2.21)\n"
          ]
        }
      ]
    },
    {
      "cell_type": "code",
      "source": [
        "# To get stock info, pass the stock symbols toTicker class of yfinance library\n",
        "# but note pass it with '.NS' after each stock symbol.\n",
        "# This is because Indian NSE stock symbols are stored with .NS suffix in yfinance\n",
        "stock_info = yf.Ticker(\"3MINDIA.NS\")\n",
        "stock_info.info"
      ],
      "metadata": {
        "colab": {
          "base_uri": "https://localhost:8080/"
        },
        "id": "6Pu_vuM9h_2S",
        "outputId": "52b47886-7e09-49d8-f69d-c5ab055ecf5f"
      },
      "execution_count": 25,
      "outputs": [
        {
          "output_type": "execute_result",
          "data": {
            "text/plain": [
              "{'address1': 'WeWork Prestige Central',\n",
              " 'address2': '3rd floor 36 Infantry Road Tasker Town',\n",
              " 'city': 'Bengaluru',\n",
              " 'zip': '560001',\n",
              " 'country': 'India',\n",
              " 'phone': '91 80 2223 1414',\n",
              " 'website': 'https://www.3mindia.in',\n",
              " 'industry': 'Conglomerates',\n",
              " 'industryDisp': 'Conglomerates',\n",
              " 'sector': 'Industrials',\n",
              " 'longBusinessSummary': '3M India Limited engages in the manufacture and trade of various products for health care, manufacturing, automotive, safety, electronics, energy, commercial solutions, transportation, and design and construction industries in India. The company operates through four segments: Safety and Industrial, Health Care, Transportation and Electronics, and Consumer. The Safety and Industrial segment offers vinyl, polyester, foil, and specialty industrial tapes and adhesives, such as scotch masking tapes, scotch filament and packaging tapes, functional and decorative graphics, abrasion-resistant films, masking tapes, and other specialty materials. This segment serves industrial, electrical, vehicle maintenance, and safety markets. The Health Care segment provides medical and surgical supplies; medical devices; skin and wound care, as well as infection prevention products and solutions; drug delivery systems; dental and orthodontic products; and food safety products. The Transportation and Electronics segment offers personal protection products, brand and asset protection solutions, border control products, passive fire protection products for industries and commercial establishments, track and trace products, and cleaning and hygiene products for the hospitality industry, as well as traffic signs, and pavement marking and vehicle registration products and services; films, inks, and digital signage products; wall and glass cladding products; and projection systems, computer and ATM-screen privacy filters, and brightness enhancement films. The Consumer segment provides home and office tapes, adhesives, and packaging protection platforms under the Scotch brand; note pads, dispensers, flagging solution, and labels under the Post-it brand; and stain protection products under the Scotchguard brand. It also exports its products. The company was incorporated in 1987 and is based in Bengaluru, India. 3M India Limited is a subsidiary of 3M Company.',\n",
              " 'companyOfficers': [{'maxAge': 1,\n",
              "   'name': 'Mr. Ramesh  Ramadurai',\n",
              "   'age': 60,\n",
              "   'title': 'MD & Director',\n",
              "   'yearBorn': 1962,\n",
              "   'fiscalYear': 2022,\n",
              "   'totalPay': 37704906,\n",
              "   'exercisedValue': 0,\n",
              "   'unexercisedValue': 0},\n",
              "  {'maxAge': 1,\n",
              "   'name': 'Ms. Vidya  Sarathy',\n",
              "   'age': 56,\n",
              "   'title': 'CFO & Whole time Director',\n",
              "   'yearBorn': 1966,\n",
              "   'exercisedValue': 0,\n",
              "   'unexercisedValue': 0},\n",
              "  {'maxAge': 1,\n",
              "   'name': 'Ms. Priya  Menon',\n",
              "   'age': 49,\n",
              "   'title': 'Gen. Counsel',\n",
              "   'yearBorn': 1973,\n",
              "   'exercisedValue': 0,\n",
              "   'unexercisedValue': 0},\n",
              "  {'maxAge': 1,\n",
              "   'name': 'Dr. Kris  Sridhar',\n",
              "   'age': 64,\n",
              "   'title': 'Head of Technical',\n",
              "   'yearBorn': 1958,\n",
              "   'exercisedValue': 0,\n",
              "   'unexercisedValue': 0},\n",
              "  {'maxAge': 1,\n",
              "   'name': 'Mr. Pratap Rudra Bhuvanagiri',\n",
              "   'title': 'Company Sec. & Compliance Officer',\n",
              "   'exercisedValue': 0,\n",
              "   'unexercisedValue': 0},\n",
              "  {'maxAge': 1,\n",
              "   'name': 'Ms. Shreya  Bhagwanth',\n",
              "   'age': 46,\n",
              "   'title': 'Head of HR & Asia Total Rewards and Services',\n",
              "   'yearBorn': 1976,\n",
              "   'exercisedValue': 0,\n",
              "   'unexercisedValue': 0},\n",
              "  {'maxAge': 1,\n",
              "   'name': 'Mr. Rajiv  Gupta',\n",
              "   'age': 51,\n",
              "   'title': 'Head of Heath Care Bus.',\n",
              "   'yearBorn': 1971,\n",
              "   'exercisedValue': 0,\n",
              "   'unexercisedValue': 0},\n",
              "  {'maxAge': 1,\n",
              "   'name': 'Mr. Ashutosh  Shirodkar',\n",
              "   'age': 51,\n",
              "   'title': 'Head of Safety & Industrial Bus.',\n",
              "   'yearBorn': 1971,\n",
              "   'fiscalYear': 2017,\n",
              "   'exercisedValue': 0,\n",
              "   'unexercisedValue': 0},\n",
              "  {'maxAge': 1,\n",
              "   'name': 'Mr. Milind  Joglekar',\n",
              "   'age': 52,\n",
              "   'title': 'Head of Taxation',\n",
              "   'yearBorn': 1970,\n",
              "   'exercisedValue': 0,\n",
              "   'unexercisedValue': 0},\n",
              "  {'maxAge': 1,\n",
              "   'name': 'Mr. Girish  Appu',\n",
              "   'age': 50,\n",
              "   'title': 'Head of Manufacturing Operation',\n",
              "   'yearBorn': 1972,\n",
              "   'exercisedValue': 0,\n",
              "   'unexercisedValue': 0}],\n",
              " 'compensationAsOfEpochDate': 1672444800,\n",
              " 'maxAge': 86400,\n",
              " 'priceHint': 2,\n",
              " 'previousClose': 27750.15,\n",
              " 'open': 27987.95,\n",
              " 'dayLow': 27755.0,\n",
              " 'dayHigh': 28009.95,\n",
              " 'regularMarketPreviousClose': 27750.15,\n",
              " 'regularMarketOpen': 27987.95,\n",
              " 'regularMarketDayLow': 27755.0,\n",
              " 'regularMarketDayHigh': 28009.95,\n",
              " 'dividendRate': 200.0,\n",
              " 'dividendYield': 0.0070999996,\n",
              " 'exDividendDate': 1690243200,\n",
              " 'payoutRatio': 2.1230001,\n",
              " 'beta': 0.286986,\n",
              " 'trailingPE': 67.550186,\n",
              " 'volume': 4793,\n",
              " 'regularMarketVolume': 4793,\n",
              " 'averageVolume': 4211,\n",
              " 'averageVolume10days': 4758,\n",
              " 'averageDailyVolume10Day': 4758,\n",
              " 'bid': 0.0,\n",
              " 'ask': 0.0,\n",
              " 'bidSize': 0,\n",
              " 'askSize': 0,\n",
              " 'marketCap': 314641580032,\n",
              " 'fiftyTwoWeekLow': 19411.0,\n",
              " 'fiftyTwoWeekHigh': 28500.0,\n",
              " 'priceToSalesTrailing12Months': 7.9467635,\n",
              " 'fiftyDayAverage': 24113.184,\n",
              " 'twoHundredDayAverage': 23311.35,\n",
              " 'trailingAnnualDividendRate': 100.0,\n",
              " 'trailingAnnualDividendYield': 0.0036035841,\n",
              " 'currency': 'INR',\n",
              " 'enterpriseValue': 306896371712,\n",
              " 'profitMargins': 0.11391,\n",
              " 'floatShares': 2610411,\n",
              " 'sharesOutstanding': 11265100,\n",
              " 'heldPercentInsiders': 0.7648,\n",
              " 'heldPercentInstitutions': 0.10288,\n",
              " 'impliedSharesOutstanding': 11265100,\n",
              " 'bookValue': 1489.115,\n",
              " 'priceToBook': 18.756544,\n",
              " 'lastFiscalYearEnd': 1680220800,\n",
              " 'nextFiscalYearEnd': 1711843200,\n",
              " 'mostRecentQuarter': 1680220800,\n",
              " 'earningsQuarterlyGrowth': 0.224,\n",
              " 'netIncomeToCommon': 4510192128,\n",
              " 'trailingEps': 413.48,\n",
              " 'enterpriseToRevenue': 7.751,\n",
              " 'enterpriseToEbitda': 50.786,\n",
              " '52WeekChange': 0.41260242,\n",
              " 'SandP52WeekChange': 0.20436263,\n",
              " 'lastDividendValue': 100.0,\n",
              " 'lastDividendDate': 1690329600,\n",
              " 'exchange': 'NSI',\n",
              " 'quoteType': 'EQUITY',\n",
              " 'symbol': '3MINDIA.NS',\n",
              " 'underlyingSymbol': '3MINDIA.NS',\n",
              " 'shortName': '3M INDIA LTD',\n",
              " 'longName': '3M India Limited',\n",
              " 'firstTradeDateEpochUtc': 1025495100,\n",
              " 'timeZoneFullName': 'Asia/Kolkata',\n",
              " 'timeZoneShortName': 'IST',\n",
              " 'uuid': '5c0fa4db-c41d-337e-b22d-5a1c081005f0',\n",
              " 'messageBoardId': 'finmb_881351',\n",
              " 'gmtOffSetMilliseconds': 19800000,\n",
              " 'currentPrice': 27930.65,\n",
              " 'recommendationKey': 'none',\n",
              " 'totalCash': 8006586880,\n",
              " 'totalCashPerShare': 710.756,\n",
              " 'ebitda': 6042915840,\n",
              " 'totalDebt': 267474000,\n",
              " 'quickRatio': 1.464,\n",
              " 'currentRatio': 2.17,\n",
              " 'totalRevenue': 39593676800,\n",
              " 'debtToEquity': 1.595,\n",
              " 'revenuePerShare': 3514.733,\n",
              " 'returnOnAssets': 0.119440004,\n",
              " 'returnOnEquity': 0.23363,\n",
              " 'grossProfits': 14990597000,\n",
              " 'freeCashflow': 3413653760,\n",
              " 'operatingCashflow': 4654766080,\n",
              " 'earningsGrowth': 0.224,\n",
              " 'revenueGrowth': 0.13,\n",
              " 'grossMargins': 0.37861001,\n",
              " 'ebitdaMargins': 0.15262,\n",
              " 'operatingMargins': 0.13806,\n",
              " 'financialCurrency': 'INR',\n",
              " 'trailingPegRatio': None}"
            ]
          },
          "metadata": {},
          "execution_count": 25
        }
      ]
    },
    {
      "cell_type": "markdown",
      "source": [
        "### Step 5: Extract stock market stats for these companies using yfinance"
      ],
      "metadata": {
        "id": "DUst34AYi4Vt"
      }
    },
    {
      "cell_type": "code",
      "source": [
        "# We actually need company's symbol.\n",
        "# If we don't know the symbol, we won't be able to access the data\n",
        "# from the yahoo finance library we can use the symbol to access the stock\n",
        "# After capturing these company names from rss feeds, we will link with\n",
        "# external database, here nifty 500. We will match the name of the company\n",
        "# with the name of the company column, and get the company symbol.\n",
        "# Then we will pass the symbol to yahoo finance library and get the stock info.\n",
        "# We will convert the stock info dictionary to a dataframe that will be displayed in out app.\n",
        "\n",
        "import yfinance as yf\n",
        "\n",
        "stock_info_dict = {\n",
        "        'Org': [],\n",
        "        'Symbol': [],\n",
        "        'currentPrice': [],\n",
        "        'dayHigh': [],\n",
        "        'dayLow': []\n",
        "        # 'forwardPE':[],\n",
        "        # 'dividendYield':[]\n",
        "}\n",
        "\n",
        "for title in headlines:\n",
        "        doc = nlp(title.text)\n",
        "        # print(doc)\n",
        "        for ent in doc.ents:\n",
        "            try:\n",
        "                # checking if entity form doc.ents is present in knowledge base\n",
        "                if stocks_df['Company Name'].str.contains(ent.text).sum():\n",
        "                    symbol = stocks_df[stocks_df['Company Name'].str.\\\n",
        "                                       contains(ent.text)]['Symbol'].values[0]\n",
        "                    # print(symbol) # debugging\n",
        "                    org_name = stocks_df[stocks_df['Company Name'].str.\\\n",
        "                                       contains(ent.text)]['Company Name'].values[0]\n",
        "\n",
        "                    # sending yfinance the symbol for stock info\n",
        "                    stock_info = yf.Ticker(symbol+\".NS\").info\n",
        "                    # print(stock_info)\n",
        "                    stock_info_dict['Org'].append(org_name)\n",
        "                    stock_info_dict['Symbol'].append(symbol)\n",
        "\n",
        "                    stock_info_dict['currentPrice'].append(stock_info['currentPrice'])\n",
        "                    stock_info_dict['dayHigh'].append(stock_info['dayHigh'])\n",
        "                    stock_info_dict['dayLow'].append(stock_info['dayLow'])\n",
        "                    # stock_info_dict['forwardPE'].append(stock_info['forwardPE'])\n",
        "                    # stock_info_dict['dividendYield'].append(stock_info['dividendYield'])\n",
        "                    # print(stock_info_dict) # debugging\n",
        "                    # some companies will be missed,\n",
        "                    # but we don't need all the info but correct info\n",
        "                else:\n",
        "                    pass\n",
        "            except:\n",
        "                pass\n",
        "\n",
        "# debugging # figured out that forwardPE and dividend yield values are not coming in for all.\n",
        "# arrayLength = {k:len(stock_info_dict[k]) for k in stock_info_dict.keys()}\n",
        "# print(arrayLength)\n",
        "\n",
        "output_df = pd.DataFrame(stock_info_dict)\n",
        "print(output_df)"
      ],
      "metadata": {
        "id": "CZSh9YZj5GUN",
        "colab": {
          "base_uri": "https://localhost:8080/"
        },
        "outputId": "a666d010-829e-4360-c8ed-e6bde771e6c8"
      },
      "execution_count": 24,
      "outputs": [
        {
          "output_type": "stream",
          "name": "stdout",
          "text": [
            "                                   Org      Symbol  currentPrice   dayHigh  \\\n",
            "0   Network18 Media & Investments Ltd.   NETWORK18         65.60     66.50   \n",
            "1                   Ashok Leyland Ltd.    ASHOKLEY        164.40    167.80   \n",
            "2          Kalyan Jewellers India Ltd.  KALYANKJIL        131.10    134.90   \n",
            "3                 AIA Engineering Ltd.      AIAENG       3477.00   3498.95   \n",
            "4   Network18 Media & Investments Ltd.   NETWORK18         65.60     66.50   \n",
            "5                    Federal Bank Ltd.  FEDERALBNK        123.75    124.35   \n",
            "6                             BSE Ltd.         BSE        572.25    580.65   \n",
            "7              Go Fashion (India) Ltd.    GOCOLORS       1130.45   1143.95   \n",
            "8                          Zomato Ltd.      ZOMATO         74.45     76.00   \n",
            "9           One 97 Communications Ltd.       PAYTM        895.15    909.90   \n",
            "10                         Canara Bank       CANBK        303.75    305.00   \n",
            "11                City Union Bank Ltd.         CUB        124.65    125.70   \n",
            "12                    360 ONE WAM Ltd.      360ONE        440.65    445.10   \n",
            "13            Aster DM Healthcare Ltd.     ASTERDM        289.45    304.75   \n",
            "14         Kalyan Jewellers India Ltd.  KALYANKJIL        131.10    134.90   \n",
            "15           Britannia Industries Ltd.   BRITANNIA       5044.70   5058.60   \n",
            "16                            ITC Ltd.         ITC        453.10    455.60   \n",
            "17          One 97 Communications Ltd.       PAYTM        895.15    909.90   \n",
            "18                       3M India Ltd.     3MINDIA      27930.65  28009.95   \n",
            "19          One 97 Communications Ltd.       PAYTM        895.15    909.90   \n",
            "20            Maruti Suzuki India Ltd.      MARUTI       9603.70   9643.40   \n",
            "21                    360 ONE WAM Ltd.      360ONE        440.65    445.10   \n",
            "\n",
            "      dayLow  \n",
            "0      62.95  \n",
            "1     158.10  \n",
            "2     119.10  \n",
            "3    3345.60  \n",
            "4      62.95  \n",
            "5     122.10  \n",
            "6     570.00  \n",
            "7    1121.55  \n",
            "8      73.90  \n",
            "9     873.80  \n",
            "10    297.60  \n",
            "11    123.85  \n",
            "12    438.10  \n",
            "13    287.30  \n",
            "14    119.10  \n",
            "15   4970.00  \n",
            "16    447.90  \n",
            "17    873.80  \n",
            "18  27755.00  \n",
            "19    873.80  \n",
            "20   9552.00  \n",
            "21    438.10  \n"
          ]
        }
      ]
    },
    {
      "cell_type": "markdown",
      "source": [
        "References:\n",
        "\n",
        "\n",
        "1.   [Harshit Tyagi Blog](https://www.freecodecamp.org/news/use-python-spacy-streamlit-to-build-structured-financial-newsfeed/)\n",
        "2.   [How to use RSS feeds to boost your productivity?](https://zapier.com/blog/how-to-use-rss-feeds/)\n",
        "3. [spaCy](https://spacy.io/)\n",
        "4. [Money Control RSS feed](https://www.moneycontrol.com/rss/buzzingstocks.xml)\n",
        "5. [Economic Times Markets RSS feed](https://economictimes.indiatimes.com/markets/stocks/rssfeeds/2146842.cms)\n",
        "6. [Nifty 500 companies database](https://www.nseindia.com/products-services/indices-nifty500-index)\n",
        "7. [Yahoo-finance library](https://pypi.org/project/yfinance/)\n",
        "\n",
        "\n"
      ],
      "metadata": {
        "id": "HO7Ge-YOjUIP"
      }
    }
  ]
}